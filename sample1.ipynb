{
 "cells": [
  {
   "cell_type": "code",
   "execution_count": 1,
   "metadata": {},
   "outputs": [
    {
     "name": "stdout",
     "output_type": "stream",
     "text": [
      "Requirement already satisfied: langchain_community in c:\\users\\mykro\\appdata\\local\\programs\\python\\python311\\lib\\site-packages (0.0.34)\n",
      "Requirement already satisfied: PyYAML>=5.3 in c:\\users\\mykro\\appdata\\local\\programs\\python\\python311\\lib\\site-packages (from langchain_community) (6.0.1)\n",
      "Requirement already satisfied: SQLAlchemy<3,>=1.4 in c:\\users\\mykro\\appdata\\local\\programs\\python\\python311\\lib\\site-packages (from langchain_community) (2.0.29)\n",
      "Requirement already satisfied: aiohttp<4.0.0,>=3.8.3 in c:\\users\\mykro\\appdata\\local\\programs\\python\\python311\\lib\\site-packages (from langchain_community) (3.9.5)\n",
      "Requirement already satisfied: dataclasses-json<0.7,>=0.5.7 in c:\\users\\mykro\\appdata\\local\\programs\\python\\python311\\lib\\site-packages (from langchain_community) (0.6.4)\n",
      "Requirement already satisfied: langchain-core<0.2.0,>=0.1.45 in c:\\users\\mykro\\appdata\\local\\programs\\python\\python311\\lib\\site-packages (from langchain_community) (0.1.45)\n",
      "Requirement already satisfied: langsmith<0.2.0,>=0.1.0 in c:\\users\\mykro\\appdata\\local\\programs\\python\\python311\\lib\\site-packages (from langchain_community) (0.1.49)\n",
      "Requirement already satisfied: numpy<2,>=1 in c:\\users\\mykro\\appdata\\local\\programs\\python\\python311\\lib\\site-packages (from langchain_community) (1.24.3)\n",
      "Requirement already satisfied: requests<3,>=2 in c:\\users\\mykro\\appdata\\local\\programs\\python\\python311\\lib\\site-packages (from langchain_community) (2.31.0)\n",
      "Requirement already satisfied: tenacity<9.0.0,>=8.1.0 in c:\\users\\mykro\\appdata\\local\\programs\\python\\python311\\lib\\site-packages (from langchain_community) (8.2.3)\n",
      "Requirement already satisfied: aiosignal>=1.1.2 in c:\\users\\mykro\\appdata\\local\\programs\\python\\python311\\lib\\site-packages (from aiohttp<4.0.0,>=3.8.3->langchain_community) (1.3.1)\n",
      "Requirement already satisfied: attrs>=17.3.0 in c:\\users\\mykro\\appdata\\local\\programs\\python\\python311\\lib\\site-packages (from aiohttp<4.0.0,>=3.8.3->langchain_community) (23.1.0)\n",
      "Requirement already satisfied: frozenlist>=1.1.1 in c:\\users\\mykro\\appdata\\local\\programs\\python\\python311\\lib\\site-packages (from aiohttp<4.0.0,>=3.8.3->langchain_community) (1.4.1)\n",
      "Requirement already satisfied: multidict<7.0,>=4.5 in c:\\users\\mykro\\appdata\\local\\programs\\python\\python311\\lib\\site-packages (from aiohttp<4.0.0,>=3.8.3->langchain_community) (6.0.5)\n",
      "Requirement already satisfied: yarl<2.0,>=1.0 in c:\\users\\mykro\\appdata\\local\\programs\\python\\python311\\lib\\site-packages (from aiohttp<4.0.0,>=3.8.3->langchain_community) (1.9.4)\n",
      "Requirement already satisfied: marshmallow<4.0.0,>=3.18.0 in c:\\users\\mykro\\appdata\\local\\programs\\python\\python311\\lib\\site-packages (from dataclasses-json<0.7,>=0.5.7->langchain_community) (3.21.1)\n",
      "Requirement already satisfied: typing-inspect<1,>=0.4.0 in c:\\users\\mykro\\appdata\\local\\programs\\python\\python311\\lib\\site-packages (from dataclasses-json<0.7,>=0.5.7->langchain_community) (0.9.0)\n",
      "Requirement already satisfied: jsonpatch<2.0,>=1.33 in c:\\users\\mykro\\appdata\\local\\programs\\python\\python311\\lib\\site-packages (from langchain-core<0.2.0,>=0.1.45->langchain_community) (1.33)\n",
      "Requirement already satisfied: packaging<24.0,>=23.2 in c:\\users\\mykro\\appdata\\local\\programs\\python\\python311\\lib\\site-packages (from langchain-core<0.2.0,>=0.1.45->langchain_community) (23.2)\n",
      "Requirement already satisfied: pydantic<3,>=1 in c:\\users\\mykro\\appdata\\local\\programs\\python\\python311\\lib\\site-packages (from langchain-core<0.2.0,>=0.1.45->langchain_community) (2.7.0)\n",
      "Requirement already satisfied: orjson<4.0.0,>=3.9.14 in c:\\users\\mykro\\appdata\\local\\programs\\python\\python311\\lib\\site-packages (from langsmith<0.2.0,>=0.1.0->langchain_community) (3.10.1)\n",
      "Requirement already satisfied: charset-normalizer<4,>=2 in c:\\users\\mykro\\appdata\\local\\programs\\python\\python311\\lib\\site-packages (from requests<3,>=2->langchain_community) (3.1.0)\n",
      "Requirement already satisfied: idna<4,>=2.5 in c:\\users\\mykro\\appdata\\local\\programs\\python\\python311\\lib\\site-packages (from requests<3,>=2->langchain_community) (3.4)\n",
      "Requirement already satisfied: urllib3<3,>=1.21.1 in c:\\users\\mykro\\appdata\\local\\programs\\python\\python311\\lib\\site-packages (from requests<3,>=2->langchain_community) (2.0.3)\n",
      "Requirement already satisfied: certifi>=2017.4.17 in c:\\users\\mykro\\appdata\\local\\programs\\python\\python311\\lib\\site-packages (from requests<3,>=2->langchain_community) (2023.5.7)\n",
      "Requirement already satisfied: typing-extensions>=4.6.0 in c:\\users\\mykro\\appdata\\local\\programs\\python\\python311\\lib\\site-packages (from SQLAlchemy<3,>=1.4->langchain_community) (4.8.0)\n",
      "Requirement already satisfied: greenlet!=0.4.17 in c:\\users\\mykro\\appdata\\local\\programs\\python\\python311\\lib\\site-packages (from SQLAlchemy<3,>=1.4->langchain_community) (3.0.3)\n",
      "Requirement already satisfied: jsonpointer>=1.9 in c:\\users\\mykro\\appdata\\local\\programs\\python\\python311\\lib\\site-packages (from jsonpatch<2.0,>=1.33->langchain-core<0.2.0,>=0.1.45->langchain_community) (2.4)\n",
      "Requirement already satisfied: annotated-types>=0.4.0 in c:\\users\\mykro\\appdata\\local\\programs\\python\\python311\\lib\\site-packages (from pydantic<3,>=1->langchain-core<0.2.0,>=0.1.45->langchain_community) (0.6.0)\n",
      "Requirement already satisfied: pydantic-core==2.18.1 in c:\\users\\mykro\\appdata\\local\\programs\\python\\python311\\lib\\site-packages (from pydantic<3,>=1->langchain-core<0.2.0,>=0.1.45->langchain_community) (2.18.1)\n",
      "Requirement already satisfied: mypy-extensions>=0.3.0 in c:\\users\\mykro\\appdata\\local\\programs\\python\\python311\\lib\\site-packages (from typing-inspect<1,>=0.4.0->dataclasses-json<0.7,>=0.5.7->langchain_community) (1.0.0)\n",
      "Note: you may need to restart the kernel to use updated packages.\n"
     ]
    },
    {
     "name": "stderr",
     "output_type": "stream",
     "text": [
      "\n",
      "[notice] A new release of pip available: 22.3.1 -> 24.0\n",
      "[notice] To update, run: python.exe -m pip install --upgrade pip\n"
     ]
    }
   ],
   "source": [
    "%pip install langchain_community"
   ]
  },
  {
   "cell_type": "code",
   "execution_count": 9,
   "metadata": {},
   "outputs": [
    {
     "name": "stdout",
     "output_type": "stream",
     "text": [
      "Llama3 - це JavaScript-браузерний драйвер, який дозволяє створювати веб-інтерфейси з допомогою HTML та CSS. Він є частиною Llama Framework, який допомагає розробникам створювати швидкі та ефективні веб-приложення.\n",
      "\n",
      "Використання Llama3 може бути корисним у наступних випадках:\n",
      "\n",
      "1. **Скорочення коду**: Llama3 дозволяє використовувати JavaScript для створення веб-інтерфейсів, що може бути корисним при створенні великих та складних веб-приложень.\n",
      "2. **Оновлення існуючих веб-приложень**: Якщо у вас є вже існуюче веб-приложення, написане на іншій технології, Llama3 дозволяє оновити інтерфейс без зміни основного коду.\n",
      "3. **Создание нових приложений**: Llama3 може бути використано для створення нових веб-приложень з нуля.\n",
      "\n",
      "Програмне забезпечення Llama3 надає наступні можливості:\n",
      "\n",
      "* Створення веб-інтерфейсів з допомогою HTML та CSS\n",
      "* Використання JavaScript для динамічного контенту\n",
      "* Підтримка різних типів медіа (зображення, відео, звук)\n",
      "* Підтримка різних форматів файлів (JPEG, PNG, MP3, тощо)\n",
      "\n",
      "Навіть не будучи досвідченим розробником, ви можете використовувати Llama3 для створення веб-інтерфейсів з мінімальними навичками програмування. Однак, щоб отримати повну користь від цього інструменту, вам потрібно мати деякий досвід роботи з HTML, CSS та JavaScript.\n",
      "\n",
      "Уникайте помилок при використанні Llama3:\n",
      "\n",
      "1. **Читайте документацію**: перед тим як почати роботу з Llama3, прочитайте документацію до інструменту.\n",
      "2. **Довіртеся веб-ініціатор**: Llama3 дозволяє створити власний веб-ініціатор, який може бути корисним при створенні складних веб-приложень.\n",
      "3. **Користуйтеся тестовими версіями**: перед тим як випустити свою роботу на публіку, випробуйте Llama3 з різними тестовими версіями.\n",
      "\n",
      "Таким чином, Llama3 може бути корисним інструментом для розробників веб-приложень, які хочуть створити швидкі та ефективні інтерфейси.\n"
     ]
    }
   ],
   "source": [
    "from langchain_community.llms import Ollama\n",
    "\n",
    "llm = Ollama(model=\"llama3\")\n",
    "\n",
    "responce = llm.invoke(\"Як використовувати llama3?\")\n",
    "\n",
    "print(responce)"
   ]
  }
 ],
 "metadata": {
  "kernelspec": {
   "display_name": "Python 3",
   "language": "python",
   "name": "python3"
  },
  "language_info": {
   "codemirror_mode": {
    "name": "ipython",
    "version": 3
   },
   "file_extension": ".py",
   "mimetype": "text/x-python",
   "name": "python",
   "nbconvert_exporter": "python",
   "pygments_lexer": "ipython3",
   "version": "3.11.3"
  }
 },
 "nbformat": 4,
 "nbformat_minor": 2
}
