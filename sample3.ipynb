{
 "cells": [
  {
   "cell_type": "code",
   "execution_count": null,
   "metadata": {},
   "outputs": [],
   "source": [
    "%pip install groq\n",
    "%pip install python-dotenv\n"
   ]
  },
  {
   "cell_type": "code",
   "execution_count": 1,
   "metadata": {},
   "outputs": [],
   "source": [
    "import os\n",
    "from dotenv import load_dotenv\n",
    "from groq import Groq\n",
    "\n",
    "# Load environment variables from .env file\n",
    "load_dotenv()\n",
    "\n",
    "# Retrieve API key from environment variable\n",
    "api_key = os.getenv('GROQ_API_KEY')\n",
    "if not api_key:\n",
    "    raise ValueError(\"No API Key found in environment variables\")\n",
    "\n",
    "client = Groq(\n",
    "    api_key=os.environ.get(\"GROQ_API_KEY\"),\n",
    ")\n"
   ]
  },
  {
   "cell_type": "code",
   "execution_count": 16,
   "metadata": {},
   "outputs": [],
   "source": [
    "#Ask your question\n",
    "user_question = \"What is machine learning\""
   ]
  },
  {
   "cell_type": "code",
   "execution_count": 17,
   "metadata": {},
   "outputs": [
    {
     "name": "stdout",
     "output_type": "stream",
     "text": [
      "Machine learning is a subfield of artificial intelligence (AI) that involves training algorithms to perform specific tasks by analyzing and learning from data. The goal of machine learning is to enable machines to make decisions, anticipate outcomes, and take actions without explicit programming.\n",
      "\n",
      "In machine learning, a computer program is designed to consider a large dataset, identify patterns, and make predictions or decisions based on that data. The algorithm is trained on a dataset, and as it processes more data, it can improve its performance and accuracy.\n",
      "\n",
      "There are three main types of machine learning:\n",
      "\n",
      "1. **Supervised Learning**: The algorithm is trained on labeled data, where the target output is already known. The algorithm learns to map inputs to outputs based on the labeled data, and it can then make predictions on new, unseen data.\n",
      "2. **Unsupervised Learning**: The algorithm is given unlabeled data, and it must find the underlying patterns or structure in the data. Clustering, dimensionality reduction, and anomaly detection are examples of unsupervised learning tasks.\n",
      "3. **Reinforcement Learning**: The algorithm is trained to operate in an environment, where it must learn to make decisions to maximize a reward or minimize a penalty. This type of machine learning is often used in robotics, game playing, and autonomous systems.\n",
      "\n",
      "Some of the key concepts and techniques in machine learning include:\n",
      "\n",
      "* **Deep Learning**: A subset of machine learning that uses neural networks to analyze data.\n",
      "* **Model Selection**: Choosing the best model for a given problem and dataset.\n",
      "* **Cross-Validation**: Breaking down data into training and testing sets to evaluate model performance.\n",
      "* **Regularization**: Techniques to prevent overfitting, such as L1 and L2 regularization.\n",
      "* **Hyperparameter Tuning**: Adjusting parameters to optimize model performance.\n",
      "\n",
      "Machine learning has many applications in various industries, including:\n",
      "\n",
      "* **Recommendation Systems**: Personalized product recommendations based on user behavior.\n",
      "* **Natural Language Processing**: Sentiment analysis, language translation, and text summarization.\n",
      "* **Computer Vision**: Image and video analysis, object detection, and facial recognition.\n",
      "* **Predictive Maintenance**: Predicting equipment failures and optimizing maintenance schedules.\n",
      "* **Financial forecasting**: Predicting stock market trends and identifying investment opportunities.\n",
      "\n",
      "In summary, machine learning is a powerful tool that enables computers to make decisions, learn from data, and improve over time. Its applications are vast and varied, and it has the potential to revolutionize many industries and aspects of our lives.\n"
     ]
    }
   ],
   "source": [
    "models = [\"mixtral-8x7b-32768\",\"Llama3-8b-8192\",\"Llama3-70b-8192\"]\n",
    "\n",
    "chat_completion = client.chat.completions.create(\n",
    "    messages=[\n",
    "        {\n",
    "            \"role\": \"user\",\n",
    "            \"content\": user_question,\n",
    "        }\n",
    "    ],\n",
    "    model=models[1],\n",
    ")\n",
    "\n",
    "print(chat_completion.choices[0].message.content)"
   ]
  }
 ],
 "metadata": {
  "kernelspec": {
   "display_name": "Python 3",
   "language": "python",
   "name": "python3"
  },
  "language_info": {
   "codemirror_mode": {
    "name": "ipython",
    "version": 3
   },
   "file_extension": ".py",
   "mimetype": "text/x-python",
   "name": "python",
   "nbconvert_exporter": "python",
   "pygments_lexer": "ipython3",
   "version": "3.11.3"
  }
 },
 "nbformat": 4,
 "nbformat_minor": 2
}
