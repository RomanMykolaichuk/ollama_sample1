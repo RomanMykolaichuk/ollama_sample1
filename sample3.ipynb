{
 "cells": [
  {
   "cell_type": "code",
   "execution_count": null,
   "metadata": {},
   "outputs": [],
   "source": [
    "%pip install groq\n",
    "%pip install python-dotenv\n"
   ]
  },
  {
   "cell_type": "code",
   "execution_count": 1,
   "metadata": {},
   "outputs": [],
   "source": [
    "import os\n",
    "from dotenv import load_dotenv\n",
    "from groq import Groq\n",
    "\n",
    "# Load environment variables from .env file\n",
    "load_dotenv()\n",
    "\n",
    "# Retrieve API key from environment variable\n",
    "api_key = os.getenv('GROQ_API_KEY')\n",
    "if not api_key:\n",
    "    raise ValueError(\"No API Key found in environment variables\")\n",
    "\n",
    "client = Groq(\n",
    "    api_key=os.environ.get(\"GROQ_API_KEY\"),\n",
    ")\n"
   ]
  },
  {
   "cell_type": "code",
   "execution_count": 6,
   "metadata": {},
   "outputs": [],
   "source": [
    "#Ask your question\n",
    "\n",
    "user_question = \"What is AI?\""
   ]
  },
  {
   "cell_type": "code",
   "execution_count": 10,
   "metadata": {},
   "outputs": [
    {
     "name": "stdout",
     "output_type": "stream",
     "text": [
      "AI, short for Artificial Intelligence, refers to the development of computer systems that can perform tasks that typically require human intelligence, such as learning, problem-solving, decision-making, and perception. These systems use algorithms and data to enable machines to think, act, and adapt like humans.\n",
      "\n",
      "There are several types of AI, including:\n",
      "\n",
      "1. **Narrow or Weak AI**: Designed to perform a specific task, such as facial recognition, language translation, or playing chess. Examples include Siri, Alexa, and Google Assistant.\n",
      "2. **General or Strong AI**: Aims to create a human-like intelligence that can perform any intellectual task. This type of AI is still in the research phase and has not been achieved yet.\n",
      "3. **Superintelligence**: A hypothetical AI that far surpasses human intelligence, potentially leading to exponential growth in technological advancements.\n",
      "\n",
      "AI can be categorized into three stages:\n",
      "\n",
      "1. **Machine Learning**: A subset of AI that enables systems to learn from data without being explicitly programmed. Machine learning uses algorithms to identify patterns and make predictions or decisions.\n",
      "2. **Deep Learning**: A type of machine learning that uses neural networks, modeled after the human brain, to analyze complex data.\n",
      "3. **Natural Language Processing (NLP)**: Focuses on developing systems that can understand, generate, and process human language.\n",
      "\n",
      "AI has numerous applications in various industries, including:\n",
      "\n",
      "1. **Healthcare**: Diagnosis, medical imaging, and personalized medicine.\n",
      "2. **Finance**: Fraud detection, risk management, and portfolio optimization.\n",
      "3. **Transportation**: Autonomous vehicles, route optimization, and traffic management.\n",
      "4. **Retail**: Customer service chatbots, personalized recommendations, and supply chain optimization.\n",
      "\n",
      "While AI has the potential to revolutionize many aspects of our lives, it also raises important questions about ethics, bias, job displacement, and accountability.\n",
      "\n",
      "What aspect of AI would you like to explore further?\n"
     ]
    }
   ],
   "source": [
    "models = [\"mixtral-8x7b-32768\",\"Llama3-8b-8192\",\"Llama3-70b-8192\"]\n",
    "\n",
    "chat_completion = client.chat.completions.create(\n",
    "    messages=[\n",
    "        {\n",
    "            \"role\": \"user\",\n",
    "            \"content\": user_question,\n",
    "        }\n",
    "    ],\n",
    "    model=models[1],\n",
    ")\n",
    "\n",
    "print(chat_completion.choices[0].message.content)"
   ]
  }
 ],
 "metadata": {
  "kernelspec": {
   "display_name": "Python 3",
   "language": "python",
   "name": "python3"
  },
  "language_info": {
   "codemirror_mode": {
    "name": "ipython",
    "version": 3
   },
   "file_extension": ".py",
   "mimetype": "text/x-python",
   "name": "python",
   "nbconvert_exporter": "python",
   "pygments_lexer": "ipython3",
   "version": "3.11.3"
  }
 },
 "nbformat": 4,
 "nbformat_minor": 2
}
